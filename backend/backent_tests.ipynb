{
 "cells": [
  {
   "cell_type": "code",
   "execution_count": 2,
   "id": "1016b667-836d-4344-b3fc-9b9ca47009ca",
   "metadata": {},
   "outputs": [
    {
     "name": "stdout",
     "output_type": "stream",
     "text": [
      "['spotify:track:5O2P9iiztwhomNh8xkR9lJ', 'spotify:track:4cluDES4hQEUhmXj6TXkSo', 'spotify:track:4nVBt6MZDDP6tRVdQTgxJg', 'spotify:track:2Bs4jQEGMycglOfWPBqrVG', 'spotify:track:2K87XMYnUMqLcX3zvtAF4G', 'spotify:track:3NLnwwAQbbFKcEcV8hDItk', 'spotify:track:5T7ZFtCcOgkpjxcuaeZbw0', 'spotify:track:3JjnGLK8IxkNLvo8Lb3KOM', 'spotify:track:2afCBiru10AFckfOa49wIa', 'spotify:track:6M31fPFCYB8Job3MCjjrDV']\n"
     ]
    }
   ],
   "source": [
    "from model.spotify_auth_functions import get_auth_key\n",
    "from model.spotipy_aux_functions import format_data,get_artist_ids\n",
    "import spotipy\n",
    "from spotipy.oauth2 import SpotifyOAuth,SpotifyClientCredentials\n",
    "import pickle as pkl\n",
    "\n",
    "def create_playlist_from_artists(artist_name_list:list)->None:\n",
    "    credentials = pkl.load(open('spotipy_credentials.pkl','rb'))\n",
    "    credentials['auth_key']=get_auth_key(credentials['client_id'],credentials['client_secret'])\n",
    "    \n",
    "    sp = spotipy.Spotify(client_credentials_manager=SpotifyClientCredentials(client_id=credentials['client_id'],\n",
    "                                                                             client_secret=credentials['client_secret']))\n",
    "    artist_ids = get_artist_ids(artist_name_list,credentials['auth_key'])\n",
    "    track_uris = []\n",
    "    for artist_id in artist_ids:\n",
    "        track_uris += [track['uri'] for track in sp.artist_top_tracks(artist_id,country='BR')['tracks']]\n",
    "\n",
    "    print(track_uris)\n",
    "\n",
    "\n",
    "if __name__ == \"__main__\":\n",
    "    artist_name_list = ['Big Time Rush']\n",
    "    create_playlist_from_artists(artist_name_list)"
   ]
  },
  {
   "cell_type": "code",
   "execution_count": null,
   "id": "3ca93a03-ada7-4649-b57d-30de152f32dc",
   "metadata": {},
   "outputs": [],
   "source": []
  }
 ],
 "metadata": {
  "kernelspec": {
   "display_name": "Python 3",
   "language": "python",
   "name": "python3"
  },
  "language_info": {
   "codemirror_mode": {
    "name": "ipython",
    "version": 3
   },
   "file_extension": ".py",
   "mimetype": "text/x-python",
   "name": "python",
   "nbconvert_exporter": "python",
   "pygments_lexer": "ipython3",
   "version": "3.9.4"
  }
 },
 "nbformat": 4,
 "nbformat_minor": 5
}
